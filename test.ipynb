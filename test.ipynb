{
 "cells": [
  {
   "cell_type": "code",
   "execution_count": 1,
   "metadata": {},
   "outputs": [
    {
     "data": {
      "text/plain": [
       "[ApiDoctor(id='41', name='Шашканова Ольга Викторовна (кабинет №222)', freeParticipantCount=0, freeTicketCount=0, lastDate=None, nearestDate=None),\n",
       " ApiDoctor(id='43', name='Маликов Александр Владимирович (кабинет №220)', freeParticipantCount=0, freeTicketCount=0, lastDate=None, nearestDate=None),\n",
       " ApiDoctor(id='44', name='Евтеев Пётр Александрович (кабинет №222)', freeParticipantCount=0, freeTicketCount=0, lastDate=None, nearestDate=None),\n",
       " ApiDoctor(id='429', name='Коберник Даниил Леонидович (кабинет №220)', freeParticipantCount=3, freeTicketCount=3, lastDate=datetime.datetime(2023, 11, 10, 19, 45), nearestDate=datetime.datetime(2023, 11, 10, 17, 45))]"
      ]
     },
     "execution_count": 1,
     "metadata": {},
     "output_type": "execute_result"
    }
   ],
   "source": [
    "from modules.models import ApiDoctor\n",
    "from modules.models import ApiDistrict\n",
    "from modules.db import SqliteDb\n",
    "from modules.net import GorzdravSpbAPI\n",
    "\n",
    "import requests\n",
    "\n",
    "\n",
    "gz = GorzdravSpbAPI()\n",
    "hospital_id = 30\n",
    "speciality_id = 981\n",
    "doctors_url = gz.get_doctors_url(hospital_id=1, speciality_id=speciality_id)\n",
    "doctors = gz.get_doctors(hospital_id, speciality_id)\n",
    "doctors"
   ]
  },
  {
   "cell_type": "code",
   "execution_count": 2,
   "metadata": {},
   "outputs": [
    {
     "ename": "TypeError",
     "evalue": "GorzdravSpbAPI.Doctor.__init__() got an unexpected keyword argument 'id'",
     "output_type": "error",
     "traceback": [
      "\u001b[0;31m---------------------------------------------------------------------------\u001b[0m",
      "\u001b[0;31mTypeError\u001b[0m                                 Traceback (most recent call last)",
      "\u001b[1;32m/home/human/scripts/python/gorzdrav_check_bot/gorzdrav_spb_checkbot/test.ipynb Cell 2\u001b[0m line \u001b[0;36m2\n\u001b[1;32m      <a href='vscode-notebook-cell:/home/human/scripts/python/gorzdrav_check_bot/gorzdrav_spb_checkbot/test.ipynb#W1sZmlsZQ%3D%3D?line=0'>1</a>\u001b[0m doctor_id \u001b[39m=\u001b[39m \u001b[39m429\u001b[39m\n\u001b[0;32m----> <a href='vscode-notebook-cell:/home/human/scripts/python/gorzdrav_check_bot/gorzdrav_spb_checkbot/test.ipynb#W1sZmlsZQ%3D%3D?line=1'>2</a>\u001b[0m doctor \u001b[39m=\u001b[39m gz\u001b[39m.\u001b[39;49mget_doctor(hospital_id\u001b[39m=\u001b[39;49mhospital_id, speciality_id\u001b[39m=\u001b[39;49mspeciality_id, doctor_id\u001b[39m=\u001b[39;49mdoctor_id)\n\u001b[1;32m      <a href='vscode-notebook-cell:/home/human/scripts/python/gorzdrav_check_bot/gorzdrav_spb_checkbot/test.ipynb#W1sZmlsZQ%3D%3D?line=2'>3</a>\u001b[0m doctor\n",
      "File \u001b[0;32m~/scripts/python/gorzdrav_check_bot/gorzdrav_spb_checkbot/modules/net.py:134\u001b[0m, in \u001b[0;36mGorzdravSpbAPI.get_doctor\u001b[0;34m(self, hospital_id, speciality_id, doctor_id)\u001b[0m\n\u001b[1;32m    132\u001b[0m     \u001b[39mreturn\u001b[39;00m \u001b[39mNone\u001b[39;00m\n\u001b[1;32m    133\u001b[0m doctor \u001b[39m=\u001b[39m filtered_doctors[\u001b[39m0\u001b[39m]\n\u001b[0;32m--> 134\u001b[0m \u001b[39mreturn\u001b[39;00m \u001b[39mself\u001b[39;49m\u001b[39m.\u001b[39;49mDoctor(\n\u001b[1;32m    135\u001b[0m     \u001b[39mid\u001b[39;49m\u001b[39m=\u001b[39;49mdoctor\u001b[39m.\u001b[39;49mid, hospital_id\u001b[39m=\u001b[39;49mhospital_id, speciality_id\u001b[39m=\u001b[39;49mspeciality_id\n\u001b[1;32m    136\u001b[0m )\n",
      "\u001b[0;31mTypeError\u001b[0m: GorzdravSpbAPI.Doctor.__init__() got an unexpected keyword argument 'id'"
     ]
    }
   ],
   "source": [
    "doctor_id = 429\n",
    "doctor = gz.get_doctor(hospital_id=hospital_id, speciality_id=speciality_id, doctor_id=doctor_id)\n",
    "doctor"
   ]
  }
 ],
 "metadata": {
  "kernelspec": {
   "display_name": ".venv",
   "language": "python",
   "name": "python3"
  },
  "language_info": {
   "codemirror_mode": {
    "name": "ipython",
    "version": 3
   },
   "file_extension": ".py",
   "mimetype": "text/x-python",
   "name": "python",
   "nbconvert_exporter": "python",
   "pygments_lexer": "ipython3",
   "version": "3.11.5"
  }
 },
 "nbformat": 4,
 "nbformat_minor": 2
}
